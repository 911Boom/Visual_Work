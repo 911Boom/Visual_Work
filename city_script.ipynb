{
 "cells": [
  {
   "cell_type": "code",
   "execution_count": 6,
   "metadata": {
    "ExecuteTime": {
     "end_time": "2023-06-19T11:38:46.543682300Z",
     "start_time": "2023-06-19T11:38:46.541350100Z"
    },
    "collapsed": true
   },
   "outputs": [],
   "source": [
    "import requests\n",
    "import re\n",
    "from bs4 import BeautifulSoup\n",
    "import pandas as pd\n",
    "from xpinyin import Pinyin\n",
    "headers = {\n",
    "    'User-Agent': 'Mozilla/5.0 (Windows NT 10.0; Win64; x64) AppleWebKit/537.36 (KHTML, like Gecko) '\n",
    "                         'Chrome/114.0.0.0 Safari/537.36 Edg/114.0.1823.43'}\n"
   ]
  },
  {
   "cell_type": "code",
   "execution_count": 7,
   "metadata": {
    "ExecuteTime": {
     "end_time": "2023-06-19T11:39:36.794530700Z",
     "start_time": "2023-06-19T11:39:36.495561800Z"
    },
    "collapsed": false
   },
   "outputs": [],
   "source": [
    "html = requests.get('https://www.tianqi.com/chinacity.html', headers=headers)\n",
    "html.encoding = html.apparent_encoding\n",
    "soup = BeautifulSoup(html.text, \"html.parser\")\n",
    "# 找到所有的城市标签，它们都是h2元素\n",
    "city_tags = soup.find_all(\"h2\")\n",
    "# 遍历每个城市标签\n",
    "df = pd.DataFrame(columns=['城市', '区域','链接'])"
   ]
  },
  {
   "cell_type": "code",
   "execution_count": 8,
   "metadata": {
    "ExecuteTime": {
     "end_time": "2023-06-19T11:39:41.217019200Z",
     "start_time": "2023-06-19T11:39:37.999472200Z"
    },
    "collapsed": false
   },
   "outputs": [],
   "source": [
    "for city_tag in city_tags:\n",
    "    # 获取城市的名字，它是a元素的文本内容\n",
    "    city_name = city_tag.a.text\n",
    "    # 获取城市对应的区域标签，它们都是span元素\n",
    "    area_tags = city_tag.find_next_sibling(\"span\")\n",
    "    # 遍历每个区域标签\n",
    "    for area_tag in area_tags:\n",
    "        # 获取区域的名字，它是a元素的文本内容\n",
    "        area_name = area_tag.text\n",
    "        # 获取区域的链接，它是a元素的href属性\n",
    "        area_url = ''\n",
    "        if area_tag.name == 'a':\n",
    "            area_url = area_tag['href']\n",
    "        elif area_tag.name == 'h3' and area_tag.a is not None:\n",
    "            area_url = area_tag.a['href']\n",
    "        else:\n",
    "            area_url = None\n",
    "        # print(city_name, area_name, area_url)\n",
    "        # 把区域的名字添加到列表中\n",
    "        df = df.append({'城市': city_name, '区域': area_name,\n",
    "                       '链接': area_url}, ignore_index=True)"
   ]
  },
  {
   "cell_type": "code",
   "execution_count": 9,
   "metadata": {},
   "outputs": [
    {
     "name": "stdout",
     "output_type": "stream",
     "text": [
      "      城市  区域          链接\n",
      "0     北京  海淀   /haidian/\n",
      "1     北京  朝阳  /chaoyang/\n",
      "2     北京  顺义    /shunyi/\n",
      "3     北京  怀柔   /huairou/\n",
      "4     北京  通州  /tongzhou/\n",
      "...   ..  ..         ...\n",
      "3279  浙江  舟山  /zhoushan/\n",
      "3280  浙江  嵊泗   /shengsi/\n",
      "3281  浙江  岱山   /daishan/\n",
      "3282  浙江  普陀     /putuo/\n",
      "3283  浙江  定海   /dinghai/\n",
      "\n",
      "[3284 rows x 3 columns]\n"
     ]
    }
   ],
   "source": [
    "print(df)\n",
    "df.to_csv('city.csv', encoding='utf-8-sig', index=False)"
   ]
  },
  {
   "cell_type": "code",
   "execution_count": 10,
   "metadata": {
    "ExecuteTime": {
     "end_time": "2023-06-19T11:39:51.998148100Z",
     "start_time": "2023-06-19T11:39:51.886333400Z"
    },
    "collapsed": false
   },
   "outputs": [],
   "source": [
    "for rows in df1.iterrows():\n",
    "    print(rows[1][0], rows[1][1])"
   ]
  }
 ],
 "metadata": {
  "kernelspec": {
   "display_name": "Python 3",
   "language": "python",
   "name": "python3"
  },
  "language_info": {
   "codemirror_mode": {
    "name": "ipython",
    "version": 3
   },
   "file_extension": ".py",
   "mimetype": "text/x-python",
   "name": "python",
   "nbconvert_exporter": "python",
   "pygments_lexer": "ipython3",
   "version": "3.7.5"
  }
 },
 "nbformat": 4,
 "nbformat_minor": 0
}
